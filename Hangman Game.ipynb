{
  "nbformat": 4,
  "nbformat_minor": 0,
  "metadata": {
    "colab": {
      "provenance": []
    },
    "kernelspec": {
      "name": "python3",
      "display_name": "Python 3"
    },
    "language_info": {
      "name": "python"
    }
  },
  "cells": [
    {
      "cell_type": "code",
      "execution_count": 9,
      "metadata": {
        "colab": {
          "base_uri": "https://localhost:8080/"
        },
        "id": "pMW2qytiakMU",
        "outputId": "1bd68a78-6c7d-4415-b9b5-13556e438967"
      },
      "outputs": [
        {
          "output_type": "stream",
          "name": "stdout",
          "text": [
            "Word Guessing Game!\n",
            "You have 6 attempts to guess words.\n",
            "Let's begin!\n",
            "\n",
            "Attempt 1 - Enter your word: code\n",
            "Correct! That word is in the list.\n",
            "Attempt 2 - Enter your word: as\n",
            "Wrong! That word is not in the list.\n",
            "Attempt 3 - Enter your word: sa\\\n",
            "Wrong! That word is not in the list.\n",
            "Attempt 4 - Enter your word: ssw\n",
            "Wrong! That word is not in the list.\n",
            "Attempt 5 - Enter your word: wwq\n",
            "Wrong! That word is not in the list.\n",
            "Attempt 6 - Enter your word: wq\n",
            "Wrong! That word is not in the list.\n",
            "\n",
            "Game Over! The words were: ['python', 'code', 'alpha', 'internship', 'program']\n"
          ]
        }
      ],
      "source": [
        "# Word Guessing Game\n",
        "WORDS = [\"python\", \"code\", \"alpha\", \"internship\", \"program\"]\n",
        "\n",
        "def play():\n",
        "    attempts = 6\n",
        "    print(\"Word Guessing Game!\")\n",
        "    print(\"You have 6 attempts to guess words.\")\n",
        "    print(\"Let's begin!\\n\")\n",
        "\n",
        "    for i in range(1, attempts + 1):\n",
        "        guess = input(f\"Attempt {i} - Enter your word: \").lower().strip()\n",
        "\n",
        "        if guess in WORDS:\n",
        "            print(\"Correct! That word is in the list.\")\n",
        "        else:\n",
        "            print(\"Wrong! That word is not in the list.\")\n",
        "\n",
        "    print(\"\\nGame Over! The words were:\", WORDS)\n",
        "\n",
        "if __name__ == \"__main__\":\n",
        "    play()"
      ]
    }
  ]
}